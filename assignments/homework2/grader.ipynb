{
 "cells": [
  {
   "cell_type": "markdown",
   "metadata": {},
   "source": [
    "# ME492 Homework 2 Grader\n",
    "\n",
    "## 1. Before Grading\n",
    "- `grader.ipynb` and `sub_grader.py` files should be in the same folder as `circuit.py`, `elements.py`, `matrix.py`, and `node.py`.\n",
    "- No other files or folders should exist, such as  `__phcache__/` or `*.pyc` file. If they do, delete them before running.\n",
    "- Ensure the file, class, and method names match the skeleton code. Student shouldn't have changed these, but if an `AttributeError` occurs, check for discrepancies. Although the instructions stated that no partial points would be given for changes, you can regrade their methods in your discretion if it appears to be a typo or an unintentional change.\n",
    "\n",
    "Below is an example of what each student's folder should look like on your local machine:\n",
    "\n",
    "```bash\n",
    "Hw2/\n",
    "|-- 24240001/\n",
    "|       |-- circuit.py\n",
    "|       |-- elements.py\n",
    "|       |-- matrix.py\n",
    "|       |-- node.py\n",
    "|       |-- grader.ipynb\n",
    "|       |-- sub_grader.py\n",
    "|-- 24240002/\n",
    "|       |-- circuit.py\n",
    "|       |-- elements.py\n",
    "|       |-- matrix.py\n",
    "|       |-- node.py\n",
    "|       |-- grader.ipynb\n",
    "|       |-- sub_grader.py\n",
    "|-- 24240003/\n",
    "|       |-- ...\n",
    "...\n",
    "```\n",
    "\n",
    "## 2. Grading\n",
    "- Each code block below grades the 6 methods in the `Matrix` class and 1 method in the `Circuit` class.\n",
    "- The same file can be given to students if they want to check their grades by running it on their local machines.\n",
    "- A tolerance of 0.01 will be accepted for matrix methods and a tolerance of 0.1 will be accepted for the circuit method.\n",
    "- If student's function has print statements, the result might be quite long. Scroll all the way down to check the total score for each method.\n",
    "  \n",
    "## (additionals) \n",
    "  - There is an error in the `__getitem()__` method in the Matrix class in the skeleton code.\n",
    "    - This method is redundant method and was implemented to give extra points to students who used direct indexing.\n",
    "    - However, the conditional statement was incorrect, so if a student implemented direct indexing, an error could occur when manipulating a 1 by n matrix. \n",
    "    - Therefore, if an error occurs during grading, please check if student used indexing as some_matrix_name[i][j] instead of the correct way, some_matrix_name.value[i][j].\n",
    "    - The error is corrected in the solution code."
   ]
  },
  {
   "cell_type": "markdown",
   "metadata": {},
   "source": [
    "# 2-0. Check files"
   ]
  },
  {
   "cell_type": "code",
   "execution_count": null,
   "metadata": {},
   "outputs": [],
   "source": [
    "\n",
    "try:\n",
    "    from matrix import Matrix\n",
    "    print(\"Importing class Matrix from matrix.py sucessful.\")\n",
    "except:\n",
    "    print(\"Error: File matrix.py or class Matrix missing or named differently.\")\n",
    "try:\n",
    "    from circuit import Circuit\n",
    "    print(\"Importing class Circuit from circuit.py sucessful.\")\n",
    "except:\n",
    "    print(\"Error: File circuit.py or class Circuit missing or named differently.\")\n",
    "try:\n",
    "    from node import Node\n",
    "    print(\"Importing class Node from node.py sucessful.\")\n",
    "except:\n",
    "    print(\"Error: File node.py or class Node missing or named differently.\")\n",
    "try:\n",
    "    from elements import VoltageSource\n",
    "    print(\"Importing class VoltageSource from elements.py sucessful.\")\n",
    "except:\n",
    "    print(\"Error: FIle elements.py or class VoltageSource missing or named differently.\")\n",
    "try:\n",
    "    from elements import Resistor\n",
    "    print(\"Importing class Resistor from elements.py sucessful.\")\n",
    "except:\n",
    "    print(\"Error: File elements.py or class Resistor missing or named differently.\")\n",
    "try:\n",
    "    from sub_grader import *\n",
    "    print(\"Importing sub_grader sucessful.\")\n",
    "except:\n",
    "    print(\"Error: sub_grader.py doesn't exist in the same folder\")\n",
    "\n",
    "print(\"\\nNo error should occur before grading. \\nIf any error occurred during running this code block, check: 1. Before Grading\")"
   ]
  },
  {
   "cell_type": "markdown",
   "metadata": {},
   "source": [
    "# 2-1. Matrix.matrix_add"
   ]
  },
  {
   "cell_type": "code",
   "execution_count": null,
   "metadata": {},
   "outputs": [],
   "source": [
    "from matrix import Matrix\n",
    "from sub_grader import MatrixGrader\n",
    "\n",
    "grader = MatrixGrader()\n",
    "grader.grade_matrix_add()"
   ]
  },
  {
   "cell_type": "markdown",
   "metadata": {},
   "source": [
    "# 2-2. Matrix.matrix_sub"
   ]
  },
  {
   "cell_type": "code",
   "execution_count": null,
   "metadata": {},
   "outputs": [],
   "source": [
    "from matrix import Matrix\n",
    "from sub_grader import MatrixGrader\n",
    "\n",
    "grader = MatrixGrader()\n",
    "grader.grade_matrix_sub()"
   ]
  },
  {
   "cell_type": "markdown",
   "metadata": {},
   "source": [
    "# 2-3. Matrix.matrix_mul"
   ]
  },
  {
   "cell_type": "code",
   "execution_count": null,
   "metadata": {},
   "outputs": [],
   "source": [
    "from matrix import Matrix\n",
    "from sub_grader import MatrixGrader\n",
    "\n",
    "grader = MatrixGrader()\n",
    "grader.grade_matrix_mul()"
   ]
  },
  {
   "cell_type": "markdown",
   "metadata": {},
   "source": [
    "# 2.4. Matrix.determinant"
   ]
  },
  {
   "cell_type": "code",
   "execution_count": null,
   "metadata": {},
   "outputs": [],
   "source": [
    "from matrix import Matrix\n",
    "from sub_grader import MatrixGrader\n",
    "\n",
    "grader = MatrixGrader()\n",
    "grader.grade_determinant()"
   ]
  },
  {
   "cell_type": "markdown",
   "metadata": {},
   "source": [
    "# 2-5. Matrix.multiply"
   ]
  },
  {
   "cell_type": "code",
   "execution_count": null,
   "metadata": {},
   "outputs": [],
   "source": [
    "from matrix import Matrix\n",
    "from sub_grader import MatrixGrader\n",
    "\n",
    "grader = MatrixGrader()\n",
    "grader.grade_multiply()"
   ]
  },
  {
   "cell_type": "markdown",
   "metadata": {},
   "source": [
    "# 2-6. Matrix.solve"
   ]
  },
  {
   "cell_type": "code",
   "execution_count": null,
   "metadata": {},
   "outputs": [],
   "source": [
    "from matrix import Matrix\n",
    "from sub_grader import MatrixGrader\n",
    "\n",
    "grader = MatrixGrader()\n",
    "grader.grade_solve()"
   ]
  },
  {
   "cell_type": "markdown",
   "metadata": {},
   "source": [
    "# 2-7. Circuit.solve_node_voltage"
   ]
  },
  {
   "cell_type": "code",
   "execution_count": null,
   "metadata": {},
   "outputs": [],
   "source": [
    "from node import Node\n",
    "from elements import VoltageSource\n",
    "from elements import Resistor\n",
    "from matrix import Matrix\n",
    "from circuit import Circuit\n",
    "from sub_grader import CircuitGrader\n",
    "\n",
    "grader = CircuitGrader()\n",
    "grader.grade_circuit()"
   ]
  }
 ],
 "metadata": {
  "kernelspec": {
   "display_name": "Python 3",
   "language": "python",
   "name": "python3"
  },
  "language_info": {
   "codemirror_mode": {
    "name": "ipython",
    "version": 3
   },
   "file_extension": ".py",
   "mimetype": "text/x-python",
   "name": "python",
   "nbconvert_exporter": "python",
   "pygments_lexer": "ipython3",
   "version": "3.11.10"
  }
 },
 "nbformat": 4,
 "nbformat_minor": 2
}
