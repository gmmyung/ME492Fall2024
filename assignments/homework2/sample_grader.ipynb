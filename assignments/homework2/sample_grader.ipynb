{
 "cells": [
  {
   "cell_type": "markdown",
   "metadata": {},
   "source": [
    "# This file is example for grading Matrix class in matrix.py\n",
    "\n",
    "### Each code block contains one or two cases for corresponding methods \n",
    "### No error should occur for each methods\n",
    "### The same test case will be in the actual grader, so it is recommended to make sure your answer is right.\n",
    "\n",
    "place this file in the same folder as node.py, elements.py, matrix.py, circuit.py.\n",
    "\n",
    "If you find any errors, please inform the TA."
   ]
  },
  {
   "cell_type": "markdown",
   "metadata": {},
   "source": [
    "# matrix_add"
   ]
  },
  {
   "cell_type": "code",
   "execution_count": null,
   "metadata": {},
   "outputs": [],
   "source": [
    "from matrix import Matrix\n",
    "\n",
    "mtx1 = Matrix (2 , 2)\n",
    "mtx5 = Matrix (2 , 2 , [[1 , 2] , [3 , 4]])\n",
    "mtx6 = Matrix ( value =[[3 , 4] , [5 , 6]])\n",
    "mtx9 = mtx5.matrix_add(mtx6)\n",
    "print(\"your mtx9 value is\" , mtx9.value)\n",
    "print(\"it should be [[4, 6], [8, 10]]\")\n",
    "mtx9_2 = mtx5.matrix_add(mtx5, mtx5)\n",
    "print(\"your mtx9_2 value is\" , mtx9_2.value)\n",
    "print(\"it should be [[2, 4], [6, 8]]\")"
   ]
  },
  {
   "cell_type": "markdown",
   "metadata": {},
   "source": [
    "# matrix_sub"
   ]
  },
  {
   "cell_type": "code",
   "execution_count": null,
   "metadata": {},
   "outputs": [],
   "source": [
    "from matrix import Matrix\n",
    "mtx1 = Matrix (2 , 2)\n",
    "mtx5 = Matrix (2 , 2 , [[1 , 2] , [3 , 4]])\n",
    "mtx6 = Matrix ( value =[[3 , 4] , [5 , 6]])\n",
    "mtx10 = mtx5.matrix_sub(mtx6)\n",
    "print(\"your mtx10 value is\" ,mtx10.value)\n",
    "print(\"it should be [[-2, -2], [-2, -2]]\")\n",
    "mtx10_2 = Matrix.matrix_sub(mtx1, mtx6)\n",
    "print(\"your mtx10_2 value is\" ,mtx10_2.value)\n",
    "print(\"it should be [[-3, -4], [-5, -6]]\")"
   ]
  },
  {
   "cell_type": "markdown",
   "metadata": {},
   "source": [
    "# matrix_mul"
   ]
  },
  {
   "cell_type": "code",
   "execution_count": null,
   "metadata": {},
   "outputs": [],
   "source": [
    "from matrix import Matrix\n",
    "mtx1 = Matrix (2 , 2)\n",
    "mtx5 = Matrix (2 , 2 , [[1 , 2] , [3 , 4]])\n",
    "mtx6 = Matrix ( value =[[3 , 4] , [5 , 6]])\n",
    "mtx11 = mtx5.matrix_mul(mtx6)\n",
    "print(\"your mtx11 value is\" ,mtx11.value)\n",
    "print(\"it should be [[13, 16], [29, 36]]\")\n",
    "mtx11_2 = mtx1.matrix_mul(mtx5, mtx6)\n",
    "print(\"your mtx11_2 value is\" ,mtx11_2.value)\n",
    "print(\"it should be [[13, 16], [29, 36]]\")"
   ]
  },
  {
   "cell_type": "markdown",
   "metadata": {},
   "source": [
    "# determinant"
   ]
  },
  {
   "cell_type": "code",
   "execution_count": null,
   "metadata": {},
   "outputs": [],
   "source": [
    "from matrix import Matrix\n",
    "mtx1 = Matrix (2 , 2)\n",
    "mtx5 = Matrix (2 , 2 , [[1 , 2] , [3 , 4]])\n",
    "mtx6 = Matrix ( value =[[3 , 4] , [5 , 6]])\n",
    "mtx11 = mtx5.matrix_mul(mtx6)\n",
    "print(\"your mtx11 determinant is\", mtx11.determinant())\n",
    "print(\"it should be 4\")\n",
    "print(\"your mtx1 determinant is\", mtx1.determinant())\n",
    "print(\"it should be 0\")\n"
   ]
  },
  {
   "cell_type": "markdown",
   "metadata": {},
   "source": [
    "# multiply"
   ]
  },
  {
   "cell_type": "code",
   "execution_count": null,
   "metadata": {},
   "outputs": [],
   "source": [
    "from matrix import Matrix\n",
    "mtx1 = Matrix (2 , 2)\n",
    "mtx5 = Matrix (2 , 2 , [[1 , 2] , [3 , 4]])\n",
    "mtx6 = Matrix ( value =[[3 , 4] , [5 , 6]])\n",
    "mtx12 = mtx6.multiply(3)\n",
    "print(\"your mtx12 value is\" ,mtx12.value)\n",
    "print(\"it should be [[9, 12], [15, 18]]\")\n",
    "mtx12_2 = mtx5.multiply(-4)\n",
    "print(\"your mtx12_2 value is\" ,mtx12_2.value)\n",
    "print(\"it should be [[-4, -8], [-12, -16]]\")"
   ]
  },
  {
   "cell_type": "markdown",
   "metadata": {},
   "source": [
    "# solve"
   ]
  },
  {
   "cell_type": "code",
   "execution_count": null,
   "metadata": {},
   "outputs": [],
   "source": [
    "from matrix import Matrix\n",
    "mtx1 = Matrix (2 , 2)\n",
    "mtx5 = Matrix (2 , 2 , [[1 , 2] , [3 , 4]])\n",
    "mtx6 = Matrix ( value =[[3 , 4] , [5 , 6]])\n",
    "\n",
    "mtx13 = Matrix(2, 1)\n",
    "mtx13.value = [[10], [1]]\n",
    "print(\"X is \", mtx5.solve(mtx13).value)\n",
    "print(\"it should be [[-19.0], [14.5]]\")"
   ]
  },
  {
   "cell_type": "markdown",
   "metadata": {},
   "source": [
    "# Below is test cases for Circuit\n",
    "\n",
    "### such small error less than 0.01 will be allowed\n",
    "### example answer is not exact value, it's rounded"
   ]
  },
  {
   "cell_type": "code",
   "execution_count": null,
   "metadata": {},
   "outputs": [],
   "source": [
    "from circuit import Circuit\n",
    "from node import Node\n",
    "from elements import *\n",
    "print(Circuit([Node(0), Node(1), Node(2), Node(3)],[VoltageSource(0, 1), Resistor(1, 1), Resistor(2, 2), Resistor(3, 3), Resistor(4, 4)],[[0, 0, 1], [1, 1, 2], [2, 2, 3], [3, 3, 0], [4, 3, 0]]).solve_node_voltage())\n",
    "print(\"it should eventually return [0.0, 1.0, 0.78788, 0.36364]\")"
   ]
  },
  {
   "cell_type": "markdown",
   "metadata": {},
   "source": []
  }
 ],
 "metadata": {
  "kernelspec": {
   "display_name": "Python 3",
   "language": "python",
   "name": "python3"
  },
  "language_info": {
   "codemirror_mode": {
    "name": "ipython",
    "version": 3
   },
   "file_extension": ".py",
   "mimetype": "text/x-python",
   "name": "python",
   "nbconvert_exporter": "python",
   "pygments_lexer": "ipython3",
   "version": "3.11.10"
  }
 },
 "nbformat": 4,
 "nbformat_minor": 2
}
